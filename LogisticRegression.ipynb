{
 "cells": [
  {
   "cell_type": "markdown",
   "metadata": {},
   "source": [
    "## Importing Necessary Libraries"
   ]
  },
  {
   "cell_type": "code",
   "execution_count": 1,
   "metadata": {},
   "outputs": [],
   "source": [
    "import pandas as pd\n",
    "import numpy as np\n",
    "import matplotlib.pyplot as plt\n",
    "import seaborn as sns"
   ]
  },
  {
   "cell_type": "markdown",
   "metadata": {},
   "source": [
    "## Loading the csv file into a panda dataframe"
   ]
  },
  {
   "cell_type": "code",
   "execution_count": 2,
   "metadata": {},
   "outputs": [
    {
     "name": "stdout",
     "output_type": "stream",
     "text": [
      "     PassengerId  Survived  Pclass  \\\n",
      "0              1         0       3   \n",
      "1              2         1       1   \n",
      "2              3         1       3   \n",
      "3              4         1       1   \n",
      "4              5         0       3   \n",
      "..           ...       ...     ...   \n",
      "886          887         0       2   \n",
      "887          888         1       1   \n",
      "888          889         0       3   \n",
      "889          890         1       1   \n",
      "890          891         0       3   \n",
      "\n",
      "                                                  Name     Sex   Age  SibSp  \\\n",
      "0                              Braund, Mr. Owen Harris    male  22.0      1   \n",
      "1    Cumings, Mrs. John Bradley (Florence Briggs Th...  female  38.0      1   \n",
      "2                               Heikkinen, Miss. Laina  female  26.0      0   \n",
      "3         Futrelle, Mrs. Jacques Heath (Lily May Peel)  female  35.0      1   \n",
      "4                             Allen, Mr. William Henry    male  35.0      0   \n",
      "..                                                 ...     ...   ...    ...   \n",
      "886                              Montvila, Rev. Juozas    male  27.0      0   \n",
      "887                       Graham, Miss. Margaret Edith  female  19.0      0   \n",
      "888           Johnston, Miss. Catherine Helen \"Carrie\"  female   NaN      1   \n",
      "889                              Behr, Mr. Karl Howell    male  26.0      0   \n",
      "890                                Dooley, Mr. Patrick    male  32.0      0   \n",
      "\n",
      "     Parch            Ticket     Fare Cabin Embarked  \n",
      "0        0         A/5 21171   7.2500   NaN        S  \n",
      "1        0          PC 17599  71.2833   C85        C  \n",
      "2        0  STON/O2. 3101282   7.9250   NaN        S  \n",
      "3        0            113803  53.1000  C123        S  \n",
      "4        0            373450   8.0500   NaN        S  \n",
      "..     ...               ...      ...   ...      ...  \n",
      "886      0            211536  13.0000   NaN        S  \n",
      "887      0            112053  30.0000   B42        S  \n",
      "888      2        W./C. 6607  23.4500   NaN        S  \n",
      "889      0            111369  30.0000  C148        C  \n",
      "890      0            370376   7.7500   NaN        Q  \n",
      "\n",
      "[891 rows x 12 columns]\n"
     ]
    }
   ],
   "source": [
    "data = pd.read_csv(\"titanic.csv\")\n",
    "print(data)"
   ]
  },
  {
   "cell_type": "code",
   "execution_count": 3,
   "metadata": {},
   "outputs": [],
   "source": [
    "data1 = data.drop(['Name','PassengerId', 'Ticket', 'Cabin', 'Survived'], axis=1)\n",
    "y = data['Survived']\n",
    "data_cat =data1.select_dtypes(include=['object'])  \n",
    "data_num1 =data1.select_dtypes(include=['number'])\n",
    "data_num = data_num1.fillna(data_num1.median())\n",
    "mean = data_num.mean(axis=0)\n",
    "std = data_num.std(axis=0)\n",
    "data_num_norm = (data_num - mean) / std\n",
    "\n",
    "data_cat_proc = pd.get_dummies(data_cat, drop_first=True) \n",
    "boolean_cols = data_cat_proc.columns[data_cat_proc.dtypes == 'bool']\n",
    "data_cat_proc[boolean_cols] = data_cat_proc[boolean_cols].astype(int)\n",
    "data_proc = pd.concat([data_num_norm, data_cat_proc], axis=1) "
   ]
  },
  {
   "cell_type": "code",
   "execution_count": 4,
   "metadata": {},
   "outputs": [
    {
     "name": "stdout",
     "output_type": "stream",
     "text": [
      "267\n"
     ]
    }
   ],
   "source": [
    "test_size = 0.3\n",
    "\n",
    "n_samples = data_proc.shape[0]\n",
    "\n",
    "n_test_samples = int(n_samples * test_size)\n",
    "print(n_test_samples)\n",
    "\n",
    "indices = np.arange(n_samples)\n",
    "np.random.shuffle(indices)\n",
    "\n",
    "# Split the data into training and testing sets\n",
    "train_indices = indices[n_test_samples:]\n",
    "test_indices = indices[:n_test_samples]\n",
    "\n",
    "X_train = data_proc.iloc[train_indices]\n",
    "y_train = y.iloc[train_indices]\n",
    "\n",
    "\n",
    "X_test = data_proc.iloc[test_indices]\n",
    "y_test = y.iloc[test_indices]\n",
    "ll_values = []"
   ]
  },
  {
   "cell_type": "code",
   "execution_count": 5,
   "metadata": {},
   "outputs": [],
   "source": [
    "def sigmoid(x):\n",
    "    return 1/(1+np.exp(-x))\n",
    "def log_loss(y_true, y_pred):\n",
    "    # Calculate the log loss\n",
    "    epsilon = 1e-15\n",
    "    loss = -np.mean(y_true * np.log(y_pred + epsilon) + (1 - y_true) * np.log(1 - y_pred + epsilon))\n",
    "    return loss"
   ]
  },
  {
   "cell_type": "code",
   "execution_count": 6,
   "metadata": {},
   "outputs": [],
   "source": [
    "class LogisticRegression:\n",
    "    def __init__(self, lr = 0.1, n_iters = 700):\n",
    "        self.lr = lr\n",
    "        self.n_iters = n_iters\n",
    "        self.weights = None\n",
    "        self.bias = 0\n",
    "    def fit(self, X, y):\n",
    "        n_samples, n_features = X.shape\n",
    "        self.weights = np.zeros(n_features)\n",
    "        self.bias = 0\n",
    "        prev_mse = float('inf')\n",
    "        for i in range(self.n_iters):\n",
    "            linearpred = np.dot(X, self.weights) + self.bias\n",
    "            y_predicted = sigmoid(linearpred)\n",
    "            delw = (1/n_samples)*np.dot(X.T, (y_predicted - y))\n",
    "            delb = (1/n_samples)*np.sum(y_predicted - y)\n",
    "            self.weights = self.weights - self.lr*delw\n",
    "            self.bias = self.bias - self.lr*delb\n",
    "            loglossv = log_loss(y, y_predicted)\n",
    "            ll_values.append(loglossv)\n",
    "#            if i > 0:\n",
    "#                if prev_mse - mse < 1e3:\n",
    "#                    break\n",
    "#            prev_mse = mse\n",
    "    def predict(self, X):\n",
    "        linearpred = np.dot(X, self.weights) + self.bias\n",
    "        y_predicted = sigmoid(linearpred)\n",
    "        predicted = [0 if y<=0.5 else 1 for y in y_predicted]\n",
    "        return predicted"
   ]
  },
  {
   "cell_type": "code",
   "execution_count": 7,
   "metadata": {},
   "outputs": [
    {
     "data": {
      "image/png": "[encoded data removed]",
      "text/plain": [
       "<Figure size 640x480 with 1 Axes>"
      ]
     },
     "metadata": {},
     "output_type": "display_data"
    },
    {
     "name": "stdout",
     "output_type": "stream",
     "text": [
      "Precision: 0.7156862745098039\n",
      "Recall: 0.73\n",
      "F1 score: 0.7227722772277227\n"
     ]
    }
   ],
   "source": [
    "classifier = LogisticRegression()\n",
    "classifier.fit(X_train, y_train)\n",
    "predictions = classifier.predict(X_test)\n",
    "def accuracy(y_pred,y_test):\n",
    "    return np.sum(y_pred==y_test)/len(y_test)\n",
    "def f1_score(predictions, y_test):\n",
    "    predictions_array = np.array(predictions)\n",
    "    y_test_array = np.array(y_test)\n",
    "    tp = np.sum((y_test_array == 1) & (predictions_array == 1))\n",
    "    fp = np.sum((y_test_array == 0) & (predictions_array == 1))\n",
    "    tn = np.sum((y_test_array == 0) & (predictions_array == 0))\n",
    "    fn = np.sum((y_test_array == 1) & (predictions_array == 0))  \n",
    "    precision = tp / (tp + fp) if tp + fp != 0 else 0\n",
    "    recall = tp / (tp + fn) if tp + fn != 0 else 0\n",
    "    print(\"Precision:\", precision)\n",
    "    print(\"Recall:\", recall)\n",
    "    f1 = 2 * precision * recall / (precision + recall) if precision + recall != 0 else 0\n",
    "    return f1\n",
    "plt.plot(range(1, len(ll_values) + 1), ll_values)\n",
    "plt.xlabel(\"Iteration\")\n",
    "plt.ylabel(\"Log Loss\")\n",
    "plt.title(\"Log Loss over Iterations\")\n",
    "plt.show()\n",
    "f1 = f1_score(predictions, y_test)\n",
    "print(\"F1 score:\",f1)"
   ]
  }
 ],
 "metadata": {
  "kernelspec": {
   "display_name": "Python 3",
   "language": "python",
   "name": "python3"
  },
  "language_info": {
   "codemirror_mode": {
    "name": "ipython",
    "version": 3
   },
   "file_extension": ".py",
   "mimetype": "text/x-python",
   "name": "python",
   "nbconvert_exporter": "python",
   "pygments_lexer": "ipython3",
   "version": "3.10.11"
  }
 },
 "nbformat": 4,
 "nbformat_minor": 2
}
